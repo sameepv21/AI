{
 "cells": [
  {
   "cell_type": "code",
   "execution_count": 7,
   "metadata": {},
   "outputs": [],
   "source": [
    "# Please note that you need python 3.9.1 to run this code\n",
    "# Ignore this cell as this is only a part of the training corpus taken to train the model.\n",
    "\n",
    "corpus = \"\"\"At the first God made the heaven and the earth.\n",
    "And the earth was waste and without form; and it was dark on the face of the deep: and the Spirit of God was moving on the face of the waters.\n",
    "And God said, Let there be light: and there was light.\n",
    "And God, looking on the light, saw that it was good: and God made a division between the light and the dark,\n",
    "Naming the light, Day, and the dark, Night. And there was evening and there was morning, the first day.\n",
    "And God said, Let there be a solid arch stretching over the waters, parting the waters from the waters.\n",
    "And God made the arch for a division between the waters which were under the arch and those which were over it: and it was so.\n",
    "And God gave the arch the name of Heaven. And there was evening and there was morning, the second day.\n",
    "And God said, Let the waters under the heaven come together in one place, and let the dry land be seen: and it was so.\n",
    "And God gave the dry land the name of Earth; and the waters together in their place were named Seas: and God saw that it was good.\n",
    "And God said, Let grass come up on the earth, and plants producing seed, and fruit-trees giving fruit, in which is their seed, after their sort: and it was so.\n",
    "And grass came up on the earth, and every plant producing seed of its sort, and every tree producing fruit, in which is its seed, of its sort: and God saw that it was good.\n",
    "And there was evening and there was morning, the third day.\n",
    "And God said, Let there be lights in the arch of heaven, for a division between the day and the night, and let them be for signs, and for marking the changes of the year, and for days and for years:\n",
    "And let them be for lights in the arch of heaven to give light on the earth: and it was so.\n",
    "And God made the two great lights: the greater light to be the ruler of the day, and the smaller light to be the ruler of the night: and he made the stars.\n",
    "And God put them in the arch of heaven, to give light on the earth;\n",
    "To have rule over the day and the night, and for a division between the light and the dark: and God saw that it was good.\n",
    "And there was evening and there was morning, the fourth day.\n",
    "And God said, Let the waters be full of living things, and let birds be in flight over the earth under the arch of heaven.\n",
    "And God made great sea-beasts, and every sort of living and moving thing with which the waters were full, and every sort of winged bird: and God saw that it was good.\n",
    "And God gave them his blessing, saying, Be fertile and have increase, making all the waters of the seas full, and let the birds be increased in the earth.\n",
    "And there was evening and there was morning, the fifth day.\n",
    "And God said, Let the earth give birth to all sorts of living things, cattle and all things moving on the earth, and beasts of the earth after their sort: and it was so.\n",
    "And God made the beast of the earth after its sort, and the cattle after their sort, and everything moving on the face of the earth after its sort: and God saw that it was good.\n",
    "And God said, Let us make man in our image, like us: and let him have rule over the fish of the sea and over the birds of the air and over the cattle and over all the earth and over every living thing which goes flat on the earth.\n",
    "And God made man in his image, in the image of God he made him: male and female he made them.\n",
    "And God gave them his blessing and said to them, Be fertile and have increase, and make the earth full and be masters of it; be rulers over the fish of the sea and over the birds of the air and over every living thing moving on the earth.\n",
    "And God said, See, I have given you every plant producing seed, on the face of all the earth, and every tree which has fruit producing seed: they will be for your food:\"\"\""
   ]
  },
  {
   "cell_type": "code",
   "execution_count": 8,
   "metadata": {
    "id": "Cp35Bg-w9Tq1"
   },
   "outputs": [],
   "source": [
    "import sys\n",
    "import random\n",
    "from typing import Iterator\n",
    "from collections import defaultdict, Counter\n",
    "\n",
    "\n",
    "def bigrams(l: list[str]) -> Iterator[list[str]]:\n",
    "    \"\"\"\n",
    "    Generate bigrams of the input corpus\n",
    "    \"\"\"\n",
    "    if not isinstance(l, list):\n",
    "        raise TypeError(f\"expected list found {type(l)}\")\n",
    "    # [[\"i\", \"am\"], [\"am\", \"a\"]...]\n",
    "    for i in range(len(l) - 1):\n",
    "        yield list(l[i : i + 2])"
   ]
  },
  {
   "cell_type": "code",
   "execution_count": 9,
   "metadata": {
    "id": "ZwZbIwF19Zi7"
   },
   "outputs": [],
   "source": [
    "class ConditionalProbDist:\n",
    "    def __init__(self, bigrams: Iterator[list[str]]):\n",
    "        self.bigrams = list(bigrams)\n",
    "        \n",
    "        # conditions\n",
    "        self.k = set()\n",
    "        # values\n",
    "        self.v = set()\n",
    "\n",
    "        # initialize probability dictionary\n",
    "        # d -> dict[str, dict[str, int]]\n",
    "        self.d = defaultdict(Counter)\n",
    "        # marginal probability\n",
    "        c = defaultdict(int)\n",
    "        \n",
    "        # i am a student am player am student am a\n",
    "        # k = am, v = a\n",
    "        for k, v in self.bigrams:\n",
    "            # {\"i\": {\"am\": 1}, am: {\"a\": 2, \"student\": 1, \"player\": 1}}\n",
    "            self.d[k].update([v])\n",
    "            # i: 1, am: 3\n",
    "            c[k] += 1\n",
    "\n",
    "            # edge case to update the key and value \n",
    "            # for the case when input is not present\n",
    "            self.v.update({v})\n",
    "            self.k.update({k})\n",
    "\n",
    "        # p(y | x)\n",
    "        # p(a | am) = 2 / 4 = 0.5\n",
    "        for i in self.d:\n",
    "            for j in self.d[i]:\n",
    "                self.d[i][j] /= c[i]\n",
    "                \n",
    "    def conditions(self) -> set[str]:\n",
    "        \"\"\"return all x in p(y | x)\"\"\"\n",
    "        return self.k\n",
    "\n",
    "    def values(self) -> set[str]:\n",
    "        \"\"\"return all y in p(y | x)\"\"\"\n",
    "        return self.v\n",
    "\n",
    "    def prob(self) -> defaultdict[str, Counter[str]]:\n",
    "        \"\"\"return all conditional probability\"\"\"\n",
    "        return self.d\n",
    "\n",
    "    def predict(self, n: int):\n",
    "        c = \"and\"\n",
    "        w = []\n",
    "        for _ in range(n):\n",
    "            try:\n",
    "                # x = ('the', 0.4)\n",
    "                x = random.choice(self.d[c].most_common(1))\n",
    "                print(self.d[c].most_common(1))\n",
    "                w.append(x[0])\n",
    "                c = w[-1]\n",
    "            except IndexError:\n",
    "                continue\n",
    "\n",
    "        return w"
   ]
  },
  {
   "cell_type": "code",
   "execution_count": 10,
   "metadata": {
    "colab": {
     "base_uri": "https://localhost:8080/"
    },
    "id": "ovC0wv7f3f08",
    "outputId": "f4980e9d-307f-4722-a136-19161cbef773"
   },
   "outputs": [],
   "source": [
    "def main() -> None:\n",
    "    # x = [\"i\", \"am\", \"a\"]\n",
    "    x = ConditionalProbDist(bigrams(corpus.lower().split()))\n",
    "#     print(x.prob())\n",
    "    print(x.predict(5))\n",
    "#     print(x.conditions())\n",
    "#     print(x.values())"
   ]
  },
  {
   "cell_type": "code",
   "execution_count": 11,
   "metadata": {},
   "outputs": [
    {
     "name": "stdout",
     "output_type": "stream",
     "text": [
      "[('god', 0.27472527472527475)]\n",
      "[('said,', 0.32142857142857145)]\n",
      "[('let', 0.8888888888888888)]\n",
      "[('the', 0.35714285714285715)]\n",
      "[('earth', 0.09090909090909091)]\n",
      "['god', 'said,', 'let', 'the', 'earth']\n"
     ]
    }
   ],
   "source": [
    "main()"
   ]
  },
  {
   "cell_type": "code",
   "execution_count": null,
   "metadata": {},
   "outputs": [],
   "source": []
  }
 ],
 "metadata": {
  "colab": {
   "provenance": []
  },
  "kernelspec": {
   "display_name": "Python 3 (ipykernel)",
   "language": "python",
   "name": "python3"
  },
  "language_info": {
   "codemirror_mode": {
    "name": "ipython",
    "version": 3
   },
   "file_extension": ".py",
   "mimetype": "text/x-python",
   "name": "python",
   "nbconvert_exporter": "python",
   "pygments_lexer": "ipython3",
   "version": "3.10.6"
  },
  "vscode": {
   "interpreter": {
    "hash": "916dbcbb3f70747c44a77c7bcd40155683ae19c65e1c03b4aa3499c5328201f1"
   }
  }
 },
 "nbformat": 4,
 "nbformat_minor": 1
}
